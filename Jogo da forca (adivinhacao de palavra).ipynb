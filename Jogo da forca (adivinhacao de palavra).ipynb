{
 "cells": [
  {
   "cell_type": "markdown",
   "metadata": {},
   "source": [
    "# Criando um jogo da forca (*Hangman*) simples em Python\n",
    "    \n",
    "Neste tutorial, vamos criar o clássico jogo de adivinhação de palavras.\n",
    "\n",
    "Adaptado de: [https://icodemag.com/creating-a-simple-hangman-game-in-python/](https://icodemag.com/creating-a-simple-hangman-game-in-python/)\n",
    "\n",
    "#### PASSO 1: IMPORTANDO MÓDULOS\n",
    "\n",
    "Primeiro, vamos importar os módulos ```random``` e ```time```. O método ```choice()``` do módulo ```random``` será usado para escolher palavras aleatórias de nossas listas de palavras e o método ```sleep()``` do módulo de tempo será usado para introduzir atrasos quando necessário."
   ]
  },
  {
   "cell_type": "code",
   "execution_count": 3,
   "metadata": {},
   "outputs": [],
   "source": [
    "import random, time"
   ]
  },
  {
   "cell_type": "markdown",
   "metadata": {},
   "source": [
    "#### PASSO 2: CRIANDO LISTAS DE PALAVRAS E VARIÁVEIS\n",
    "\n",
    "Em seguida, criaremos nossa(s) lista(s) de palavras que serão usadas pelo programa para escolher palavras aleatoriamente para os jogadores adivinharem. \n",
    "\n",
    "Aqui temos duas listas: a primeira tem nomes de frutas e a segunda consiste em nomes de países. As duas listas foram criadas para dar aos jogadores a opção de escolher a categoria da palavra que gostariam de adivinhar. Você pode fazer uma ou mais listas de palavras, dependendo do número de categorias que deseja adicionar ao jogo."
   ]
  },
  {
   "cell_type": "code",
   "execution_count": 4,
   "metadata": {},
   "outputs": [],
   "source": [
    "fruits = ['PESSEGO', 'MANGA', 'MAÇA', 'BANANA', 'ABACAXI', 'UVA', 'MORANGO', 'MELANCIA', 'PERA']\n",
    "contries = ['ESTADOS UNIDOS', 'INGLATERRA', 'FRANÇA', 'ARGENTINA', 'BRASIL', 'JAPAO', 'AUSTRALIA', 'CHINA', 'EMIRADOS ARABES', 'AFRICA DO SUL']"
   ]
  },
  {
   "cell_type": "markdown",
   "metadata": {},
   "source": [
    "Vamos criar algumas variáveis para armazenar as estatísticas do jogo:\n",
    "\n"
   ]
  },
  {
   "cell_type": "code",
   "execution_count": 5,
   "metadata": {},
   "outputs": [],
   "source": [
    "userGuesslist = []\n",
    "userGuesses = []\n",
    "playGame = True\n",
    "category = \"\"\n",
    "continueGame = \"Y\""
   ]
  },
  {
   "cell_type": "markdown",
   "metadata": {},
   "source": [
    "#### PASSO 3: INFORMAÇÕES DO JOGO\n",
    "\n",
    "Iremos solicitar o nome do jogador e armazená-lo em uma variável. Antes de iniciar o jogo, mostramos alguns detalhes sobre o jogo. \n",
    "\n",
    "Aqui, vamos usar o método ```sleep()``` do módulo de tempo para fazer uma pausa de alguns segundos entre as exibições."
   ]
  },
  {
   "cell_type": "code",
   "execution_count": 6,
   "metadata": {},
   "outputs": [
    {
     "name": "stdout",
     "output_type": "stream",
     "text": [
      "Qual seu nome? Terumi\n",
      "Olá  Terumi ! Vamos começar a jogar!\n",
      "O objetivo do jogo é acertar a palavra secreta, escoliha pelo computador.\n",
      "Você pode acertar apenas uma letra por vez. Digite a letra e pressione a tecla ENTER após cada jogada.\n",
      "Que comece a diversão!\n"
     ]
    }
   ],
   "source": [
    "name = input(\"Qual seu nome? \")\n",
    "print(\"Olá \", name.capitalize(), \"! Vamos começar a jogar!\")\n",
    "time.sleep(1)\n",
    "print(\"O objetivo do jogo é acertar a palavra secreta, escoliha pelo computador.\")\n",
    "time.sleep(1)\n",
    "print(\"Você pode acertar apenas uma letra por vez. Digite a letra e pressione a tecla ENTER após cada jogada.\")\n",
    "time.sleep(2)\n",
    "print(\"Que comece a diversão!\")\n",
    "time.sleep(1)"
   ]
  },
  {
   "cell_type": "markdown",
   "metadata": {},
   "source": [
    "#### PASSO 4: ESCOLHA DE UMA PALAVRA ALEATÓRIA DA CATEGORIA DESEJADA\n",
    "\n",
    "A seguir, adicionaremos a lógica para permitir que o programa escolha uma palavra aleatória da categoria desejada . É assim que o código se parece."
   ]
  },
  {
   "cell_type": "markdown",
   "metadata": {},
   "source": [
    "<code>while True:\n",
    "    #escolhendo a palavra secreta\n",
    "    while True:\n",
    "        if category.upper() == 'P':\n",
    "            secretWord = random.choice(contries)\n",
    "            break\n",
    "        elif category.upper() == 'F':\n",
    "            secretWord = random.choice(fruits)\n",
    "            break\n",
    "        # adicone blocos elif aqui caso tenha mais categorias\n",
    "        else:\n",
    "            category = input(\"Por favor, selecine uma categoria: F (frutas) / P para países; X para sair. Escolhida: \")\n",
    "</code>\n",
    "<code>\n",
    "        if category.upper() == 'X':\n",
    "            print(\"Tchau, até a próxima\")\n",
    "            playGame = False\n",
    "            break\n",
    "</code>"
   ]
  },
  {
   "cell_type": "markdown",
   "metadata": {},
   "source": [
    "Aqui, usaremos o laço ```while``` e as condicionais ```if``` / ```elif``` / ```else``` para escolher a palavra aleatória. \n",
    "\n",
    "Os jogadores têm a opção de escolher uma categoria (Frutas / Países ) para a palavra que gostariam de adivinhar. Uma opção para sair do jogo também é fornecida, caso eles decidam não jogar.\n",
    "\n",
    "O bloco ```if``` do código será executado se o jogador escolher 'P' indicando que deseja jogar o jogo com palavras da categoria 'países'. Neste caso, uma palavra da lista ```contries``` será escolhida aleatoriamente usando o módulo ```random.choice``` de ```random```. A palavra será então armazenado na variável ```secretword```.\n",
    "\n",
    "O bloco ```elif (else if)``` do código será executado se o jogador escolher 'F' indicando que deseja jogar com palavras da categoria 'fruta'. Neste caso, a palavra da lista de frutas lista será escolhida aleatoriamente com a função ```random.choice``` do módulo ```random```  e armazenada na variável ```secretword```.\n",
    "\n",
    "Se o jogador escolher qualquer outra letra além de 'P' ou 'F', o jogador será solicitado a selecionar uma categoria válida ou 'X' para sair (usamos ```upper``` para converter a entrada em maiúsculas antes de validar a categoria). \n",
    "\n",
    "Como queremos forçar o jogador a selecionar uma opção correta ou sair do jogo, envolveremos nosso bloco ```if / elif / else``` dentro de um bloco ```while True``` (*loop* eterno). \n",
    "\n",
    "O bloco ```else``` será executado se o jogador escolher 'X' indicando que deseja sair do jogo. Neste caso, o resto do programa não será executado e o jogo terminará.\n",
    "\n",
    "Estamos usando uma variável booleana ```playGame``` para facilitar isso. Um valor ```True``` permitirá que os jogadores continuem jogando e um valor ```False``` encerrará o jogo. Esta variável é inicializada com o valor ```True``` no início do jogo, assumindo que os jogadores invocam o programa com o desejo de jogar.\n",
    "\n",
    "Se o jogador optar por sair do jogo escolhendo 'X', ```playGame``` é definido como ```False```, o que resulta em ignorar a parte do programa que contém a lógica do jogo e o jogo termina.\n",
    "\n",
    "#### PASSO 5: MOSTRANDO LINHAS EM BRANCO PARA CADA LETRA DA PALAVRA ESCOLHIDA\n",
    "\n",
    "Esta etapa é executada quando o jogador seleciona uma categoria para a lista de palavras. Depois que a palavra aleatória é escolhida pelo programa, queremos mostrar os marcadores de posição do jogador (estamos usando linhas em branco neste programa) para cada letra da palavra escolhida. O número de marcadores de posição indica o comprimento da palavra a ser adivinhada.   \n",
    "\n",
    "Veja como o faremos:\n",
    "\n",
    "Observe que esta parte do programa será executada apenas se o jogador escolher a categoria correta para a lista de palavras. Também precisamos garantir que essa parte do código não seja executada se o jogador quiser sair do jogo. Se o jogador selecionar uma categoria correta e não quiser sair do jogo, o booleano ```playGame``` terá um valor ```True``` .Verificamos o valor dessa variável usando uma condição ```if```.\n",
    "\n",
    "Primeiro, converteremos nossa ```secretWord``` em uma lista e a armazenaremos em uma variável chamada ```secretWordList```."
   ]
  },
  {
   "cell_type": "markdown",
   "metadata": {},
   "source": [
    "<code>    if playGame:\n",
    "        secretWordList = list(secretWord)\n",
    "</code>"
   ]
  },
  {
   "cell_type": "markdown",
   "metadata": {},
   "source": [
    "Para tornar o jogo interessante, também estamos limitando o número de tentativas permitidas de forma dinâmica com base na palavra secreta. \n",
    "\n",
    "Aqui, o número de tentativas permitidas está sendo limitado a mais duas do que o número de letras da palavra secreta. Para isso, precisamos controlar o comprimento da palavra secreta, bem como o número de tentativas que o jogador fez para adivinhar a palavra. \n",
    "\n",
    "A propriedade ```length``` é usada para encontrar o comprimento da variável ```secretWord``` . O número de tentativas permitidas é definido adicionando 2 a este comprimento e armazenado na variável ```attempts```. Esta variável será usada para rastrear o número de tentativas restantes conforme o jogo avança."
   ]
  },
  {
   "cell_type": "markdown",
   "metadata": {},
   "source": [
    "<code>        attempts = (len(secretWord) + 2)</code>"
   ]
  },
  {
   "cell_type": "markdown",
   "metadata": {},
   "source": [
    "Para exibir nossa ```userGuesslist``` , criaremos uma função ```printGuessedLetter()``` e a usaremos todas as vezes que quisermos imprimir nossa lista."
   ]
  },
  {
   "cell_type": "markdown",
   "metadata": {},
   "source": [
    "<code>        #função para imprimir a lista de tentativas do usuário\n",
    "        def printGuessedLetter():\n",
    "            print(\"A palavra secreta é : \" + ''.join(userGuesslist))\n",
    "        print(\"O número de tentativas para esta palavra é:\", attempts)\n",
    "</code>"
   ]
  },
  {
   "cell_type": "markdown",
   "metadata": {},
   "source": [
    "Cada vez que o jogador faz uma tentativa, o número de tentativas será reduzido em 1 ( ```attempts - = 1``` ) até que o jogador adivinhe a palavra correta ou não haja mais tentativas ( ```attempts == 0``` )\n",
    "\n",
    "Agora, vamos trabalhar para mostrar os espaços reservados para a palavra secreta.  Para isso, primeiro criaremos uma variável chamada ```userGuesslist```, já inicializada com uma lista vazia.\n",
    "\n",
    "Vamos fazer um *loop* em nossa lista ```secretWordList``` e, para cada elemento da lista, adicionaremos um '_' à nossa lista ```userGuesslist```."
   ]
  },
  {
   "cell_type": "markdown",
   "metadata": {},
   "source": [
    "<code>        #Adicionando linhas em branco à userGuesslist para criar a palavra secreta em branco\n",
    "        for n in secretWordList:\n",
    "            userGuesslist.append('_')\n",
    "        printGuessedLetter()</code>"
   ]
  },
  {
   "cell_type": "markdown",
   "metadata": {},
   "source": [
    "#### PASSO 6: LÓGICA PARA PEDIR UMA LERTA E EXIBI-LA NO ESPAÇO RESERVADO\n",
    "\n",
    "A seguir, trabalharemos na lógica de pedir ao jogador para inserir uma letra até adivinhar a palavra corretamente ou esgotar as tentativas permitidas. Se a letra estiver na palavra escolhida, adicionaremos a letra na posição correta em nossa lista de ```userGuesslist``` e então exibiremos a lista.\n",
    "\n",
    "Começaremos criando um *loop* ```while``` para continuar solicitando a entrada de letras do jogador."
   ]
  },
  {
   "cell_type": "markdown",
   "metadata": {},
   "source": [
    "<code>        #iniciando o jogo\n",
    "        while True:\n",
    "            print(\"Informe uma letra:\")\n",
    "            letter = input()</code>"
   ]
  },
  {
   "cell_type": "markdown",
   "metadata": {},
   "source": [
    "A seguir, verificaremos se a letra inserida pelo jogador já foi inserida. Vamos criar uma lista vazia ```userGuesses``` e cada vez que o jogador informa uma letra, será adicionada em ```userGuesses```. Se a letra existir na lista ```userGuesses```, pediremos ao jogador para escolher outra letra."
   ]
  },
  {
   "cell_type": "markdown",
   "metadata": {},
   "source": [
    "<code>            letter = letter.upper()\n",
    "            if letter in userGuesses:\n",
    "                print(\"Você já informou essa letra antes, por favor informe outra.\")\n",
    "            else:\n",
    "                attempts -= 1\n",
    "                userGuesses.append(letter)\n",
    "                if letter in secretWordList:\n",
    "                    print(\"Acertou!\")\n",
    "                    if attempts > 0:\n",
    "                        print(\"Você tem \", attempts, ' tentativas sobrando.')</code>"
   ]
  },
  {
   "cell_type": "markdown",
   "metadata": {},
   "source": [
    "Caso contrário, o programa irá percorrer nossa ```secretWordList```, obter o índice da letra de entrada e no mesmo número de índice, adicionar a letra na lista ```userGuesslist```."
   ]
  },
  {
   "cell_type": "markdown",
   "metadata": {},
   "source": [
    "<code>                    for i in range(len(secretWordList)):\n",
    "                        if letter == secretWordList[i]:\n",
    "                            letterIndex = i\n",
    "                            userGuesslist[letterIndex] = letter.upper()\n",
    "                    printGuessedLetter()\n",
    "                else:\n",
    "                    print(\"Não foi dessa vez, tente novamente.\")\n",
    "                    if attempts > 0:\n",
    "                        print(\"Você tem \", attempts, ' tentativas sobrando.')\n",
    "                    printGuessedLetter()</code>"
   ]
  },
  {
   "cell_type": "markdown",
   "metadata": {},
   "source": [
    "#### PASSO 7: LÓGICA DE VITÓRIA / DERROTA\n",
    "\n",
    "Estamos quase no fim do nosso jogo. Aqui, trabalharemos na lógica de vitória / derrota .\n",
    "\n",
    "Vamos juntar a variável ```userGuesslist``` e armazená-la na variável ```joinList```."
   ]
  },
  {
   "cell_type": "markdown",
   "metadata": {},
   "source": [
    "<code>            #Lógica do jogo para acerto / erro\n",
    "            joinedList = ''.join(userGuesslist)</code>"
   ]
  },
  {
   "cell_type": "markdown",
   "metadata": {},
   "source": [
    "Para determinar a vitória ou derrota , vamos comparar a ```secretWord``` ( a palavra escolhida pelo computador ) com a variável ```joinList```. \n",
    "\n",
    "Se ambos forem iguais, o jogador venceu. Como mencionado anteriormente, após cada tentativa, também rastrearemos o número de tentativas restantes para verificar se é igual a '0', caso em que o jogador perde o jogo."
   ]
  },
  {
   "cell_type": "markdown",
   "metadata": {},
   "source": [
    "<code>            if joinedList.upper() == secretWord.upper():\n",
    "                print(\"Parabéns! Você ganhou :)\")\n",
    "                break\n",
    "            elif attempts == 0:\n",
    "                print(\"Você não tem mais nenhuma tentativa sobrando. Mais sorte da próxima vez.\")\n",
    "                print(\"A palavra secreta era: \"+ secretWord.upper())\n",
    "                break</code>"
   ]
  },
  {
   "cell_type": "markdown",
   "metadata": {},
   "source": [
    "#### PASSO 8: LÓGICA PARA JOGAR NOVAMENTE\n",
    "\n",
    "Por último, vamos trabalhar na lógica para 'jogar novamente'. Perguntamos ao jogador se deseja jogar novamente e armazenamos a resposta em uma variável.\n",
    "\n",
    "Se o jogador quiser jogar novamente, pedimos para informar a categoria desejada. Também lipamos a lista ```userGuessList``` e a lista ```userGuesses```e definimos a variável ```PlayGame``` para ```True```.\n",
    "\n",
    "Se o jogador escolher não jogar novamente, sairemos do *loop* no bloco ```else```."
   ]
  },
  {
   "cell_type": "markdown",
   "metadata": {},
   "source": [
    "<code>        #Jogando novamente\n",
    "        continueGame = input(\"Você deseja jogar novamente? Y para continuar, tecle outra letra qualquer para sair.\")\n",
    "        if continueGame.upper() == 'Y':\n",
    "            category = input(\"Por favor, selecine uma categoria: F (frutas) / P para países; X para sair\")\n",
    "            userGuesslist = []\n",
    "            userGuesses = []\n",
    "            playGame = True\n",
    "        else:\n",
    "            print(\"Obrigada por jogar, volte sempre!\")\n",
    "            break\n",
    "    else:\n",
    "        break</code>"
   ]
  },
  {
   "cell_type": "markdown",
   "metadata": {},
   "source": [
    "Este é o código completo, para que você possa executá-lo pelo *notebook*:"
   ]
  },
  {
   "cell_type": "code",
   "execution_count": 7,
   "metadata": {},
   "outputs": [
    {
     "name": "stdout",
     "output_type": "stream",
     "text": [
      "Por favor, selecine uma categoria: F (frutas) / P para países; X para sairF\n",
      "A palavra secreta é : _______\n",
      "O número de tentativas para esta palavra é: 9\n",
      "Informe uma letra:\n",
      "A\n",
      "Acertou!\n",
      "Você tem  8  tentativas sobrando.\n",
      "A palavra secreta é : A_A_A__\n",
      "Informe uma letra:\n",
      "B\n",
      "Acertou!\n",
      "Você tem  7  tentativas sobrando.\n",
      "A palavra secreta é : ABA_A__\n",
      "Informe uma letra:\n",
      "C\n",
      "Acertou!\n",
      "Você tem  6  tentativas sobrando.\n",
      "A palavra secreta é : ABACA__\n",
      "Informe uma letra:\n",
      "X\n",
      "Acertou!\n",
      "Você tem  5  tentativas sobrando.\n",
      "A palavra secreta é : ABACAX_\n",
      "Informe uma letra:\n",
      "I\n",
      "Acertou!\n",
      "Você tem  4  tentativas sobrando.\n",
      "A palavra secreta é : ABACAXI\n",
      "Parabéns! Você ganhou :)\n",
      "Você deseja jogar novamente? Y para continuar, tecle outra letra qualquer para sair.x\n",
      "Obrigada por jogar, volte sempre!\n"
     ]
    }
   ],
   "source": [
    "while True:\n",
    "    #escolhendo a palavra secreta\n",
    "    while True:\n",
    "        if category.upper() == 'P':\n",
    "            secretWord = random.choice(contries)\n",
    "            break\n",
    "        elif category.upper() == 'F':\n",
    "            secretWord = random.choice(fruits)\n",
    "            break\n",
    "        else:\n",
    "            category = input(\"Por favor, selecine uma categoria: F (frutas) / P para países; X para sair\")\n",
    "\n",
    "        if category.upper() == 'X':\n",
    "            print(\"Tchau, até a próxima\")\n",
    "            playGame = False\n",
    "            break\n",
    "\n",
    "    if playGame:\n",
    "        secretWordList = list(secretWord)\n",
    "        attempts = (len(secretWord) + 2)\n",
    "\n",
    "        #função para imprimir a lista de tentativas do usuário\n",
    "        def printGuessedLetter():\n",
    "            print(\"A palavra secreta é : \" + ''.join(userGuesslist))\n",
    "\n",
    "\n",
    "        #Adicionando linhas em branco à userGuesslist para criar a palavra secreta em branco\n",
    "        for n in secretWordList:\n",
    "            userGuesslist.append('_')\n",
    "        printGuessedLetter()\n",
    "\n",
    "        print(\"O número de tentativas para esta palavra é:\", attempts)\n",
    "\n",
    "\n",
    "        #iniciando o jogo\n",
    "        while True:\n",
    "\n",
    "            print(\"Informe uma letra:\")\n",
    "            letter = input()\n",
    "            letter = letter.upper()\n",
    "            if letter in userGuesses:\n",
    "                print(\"Você já informou essa letra antes, por favor informe outra.\")\n",
    "\n",
    "            else:\n",
    "                attempts -= 1\n",
    "                userGuesses.append(letter)\n",
    "                if letter in secretWordList:\n",
    "                    print(\"Acertou!\")\n",
    "                    if attempts > 0:\n",
    "                        print(\"Você tem \", attempts, ' tentativas sobrando.')\n",
    "                    for i in range(len(secretWordList)):\n",
    "                        if letter == secretWordList[i]:\n",
    "                            letterIndex = i\n",
    "                            userGuesslist[letterIndex] = letter.upper()\n",
    "                    printGuessedLetter()\n",
    "\n",
    "                else:\n",
    "                    print(\"Não foi dessa vez, tente novamente.\")\n",
    "                    if attempts > 0:\n",
    "                        print(\"Você tem \", attempts, ' tentativas sobrando.')\n",
    "                    printGuessedLetter()\n",
    "\n",
    "\n",
    "            #Lógica do jogo para acerto / erro\n",
    "            joinedList = ''.join(userGuesslist)\n",
    "            if joinedList.upper() == secretWord.upper():\n",
    "                print(\"Parabéns! Você ganhou :)\")\n",
    "                break\n",
    "            elif attempts == 0:\n",
    "                print(\"Você não tem mais nenhuma tentativa sobrando. Mais sorte da próxima vez.\")\n",
    "                print(\"A palavra secreta era: \"+ secretWord.upper())\n",
    "                break\n",
    "\n",
    "        #Jogando novamente\n",
    "        continueGame = input(\"Você deseja jogar novamente? Y para continuar, tecle outra letra qualquer para sair.\")\n",
    "        if continueGame.upper() == 'Y':\n",
    "            category = input(\"Por favor, selecine uma categoria: F (frutas) / P para países; X para sair\")\n",
    "            userGuesslist = []\n",
    "            userGuesses = []\n",
    "            playGame = True\n",
    "        else:\n",
    "            print(\"Obrigada por jogar, volte sempre!\")\n",
    "            break\n",
    "    else:\n",
    "        break"
   ]
  }
 ],
 "metadata": {
  "kernelspec": {
   "display_name": "Python 3",
   "language": "python",
   "name": "python3"
  },
  "language_info": {
   "codemirror_mode": {
    "name": "ipython",
    "version": 3
   },
   "file_extension": ".py",
   "mimetype": "text/x-python",
   "name": "python",
   "nbconvert_exporter": "python",
   "pygments_lexer": "ipython3",
   "version": "3.8.5"
  }
 },
 "nbformat": 4,
 "nbformat_minor": 4
}
